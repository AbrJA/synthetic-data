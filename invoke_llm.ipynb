{
 "cells": [
  {
   "cell_type": "code",
   "execution_count": null,
   "metadata": {},
   "outputs": [],
   "source": [
    "import os\n",
    "from chatlas import ChatOpenAI\n",
    "\n",
    "chat = ChatOpenAI(\n",
    "    model = \"gpt-4o-mini\",\n",
    "    system_prompt = \"You are a friendly but terse assistant.\",\n",
    ")\n",
    "\n",
    "from pydantic import BaseModel\n",
    "\n",
    "class Person(BaseModel):\n",
    "    name: str\n",
    "    age: int\n",
    "\n",
    "extraction = chat.extract_data(\n",
    "    \"My name is Susan and I'm 13 years old\", \n",
    "    data_model=Person,\n",
    ")\n",
    "\n",
    "print(extraction)\n"
   ]
  }
 ],
 "metadata": {
  "language_info": {
   "name": "python"
  }
 },
 "nbformat": 4,
 "nbformat_minor": 2
}
