{
 "cells": [
  {
   "cell_type": "code",
   "execution_count": 1,
   "metadata": {},
   "outputs": [],
   "source": [
    "import pandas as pd\n",
    "import numpy as np\n",
    "from faker import Faker\n",
    "import random"
   ]
  },
  {
   "cell_type": "code",
   "execution_count": 2,
   "metadata": {},
   "outputs": [],
   "source": [
    "fake = Faker('es_ES')"
   ]
  },
  {
   "cell_type": "code",
   "execution_count": null,
   "metadata": {},
   "outputs": [],
   "source": [
    "def generar_datos_sinteticos(num_registros=100):\n",
    "    datos = []\n",
    "    for _ in range(num_registros):\n",
    "        # Generar datos básicos\n",
    "        id_conductor = fake.uuid4()\n",
    "        sexo = random.choices(['M', 'F'], weights=[0.99, 0.01])[0]\n",
    "        edad = max(18, int(np.random.normal(40, 7, 1).item())) \n",
    "        experiencia = random.randint(0, edad - 18)\n",
    "        antiguedad = random.randint(0, experiencia)\n",
    "        salario = random.randint(6000, 12000)\n",
    "        distancia_recorrida = random.randint(2000, 8000) \n",
    "        num_viajes = random.randint(1, 50) # Correlación con la distancia recorrida\n",
    "        bono = distancia_recorrida * 1\n",
    "        zona_riesgo = random.choice([True, False]) \n",
    "\n",
    "        # Agregar datos a la lista\n",
    "        datos.append([\n",
    "            id_conductor,\n",
    "            sexo,\n",
    "            edad,\n",
    "            experiencia,\n",
    "            antiguedad,\n",
    "            salario,\n",
    "            distancia_recorrida,\n",
    "            num_viajes,\n",
    "            bono,\n",
    "            zona_riesgo\n",
    "        ])\n",
    "\n",
    "    columnas = [\n",
    "        'id_conductor',\n",
    "        'sexo',\n",
    "        'edad',\n",
    "        'experiencia',\n",
    "        'antiguedad',\n",
    "        'salario',\n",
    "        'distancia_recorrida',\n",
    "        'num_viajes',\n",
    "        'bono',\n",
    "        'zona_riesgo'\n",
    "    ]\n",
    "\n",
    "    df = pd.DataFrame(datos, columns=columnas)\n",
    "    return df"
   ]
  },
  {
   "cell_type": "code",
   "execution_count": 30,
   "metadata": {},
   "outputs": [],
   "source": [
    "df = generar_datos_sinteticos(100)"
   ]
  },
  {
   "cell_type": "code",
   "execution_count": 31,
   "metadata": {},
   "outputs": [],
   "source": [
    "df.to_csv('datos_sinteticos.csv', index=False)"
   ]
  },
  {
   "cell_type": "code",
   "execution_count": null,
   "metadata": {},
   "outputs": [],
   "source": []
  },
  {
   "cell_type": "code",
   "execution_count": null,
   "metadata": {},
   "outputs": [],
   "source": []
  }
 ],
 "metadata": {
  "kernelspec": {
   "display_name": "Python 3",
   "language": "python",
   "name": "python3"
  },
  "language_info": {
   "codemirror_mode": {
    "name": "ipython",
    "version": 3
   },
   "file_extension": ".py",
   "mimetype": "text/x-python",
   "name": "python",
   "nbconvert_exporter": "python",
   "pygments_lexer": "ipython3",
   "version": "3.11.9"
  }
 },
 "nbformat": 4,
 "nbformat_minor": 2
}
